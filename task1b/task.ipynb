{
 "cells": [
  {
   "cell_type": "markdown",
   "metadata": {},
   "source": [
    "#### General guidance\n",
    "\n",
    "This serves as a template which will guide you through the implementation of this task. It is advised\n",
    "to first read the whole template and get a sense of the overall structure of the code before trying to fill in any of the TODO gaps.\n",
    "This is the jupyter notebook version of the template. For the python file version, please refer to the file `template_solution.py`.\n",
    "\n",
    "First, we import necessary libraries:"
   ]
  },
  {
   "cell_type": "code",
   "execution_count": 11,
   "metadata": {},
   "outputs": [],
   "source": [
    "import numpy as np\n",
    "import pandas as pd\n",
    "\n",
    "# Add any additional imports here (however, the task is solvable without using \n",
    "# any additional imports)\n",
    "# import ...\n",
    "import os\n",
    "\n",
    "import sklearn\n",
    "import sklearn.model_selection\n",
    "import sklearn.linear_model"
   ]
  },
  {
   "cell_type": "markdown",
   "metadata": {},
   "source": [
    " #### Loading data"
   ]
  },
  {
   "cell_type": "code",
   "execution_count": 12,
   "metadata": {},
   "outputs": [
    {
     "name": "stdout",
     "output_type": "stream",
     "text": [
      "Data already fetched!\n"
     ]
    }
   ],
   "source": [
    "# Pull data if not exists\n",
    "DATA_PATH = 'data'\n",
    "if not os.path.exists(DATA_PATH):\n",
    "    !bash pull_data.sh\n",
    "else:\n",
    "    print(\"Data already fetched!\")"
   ]
  },
  {
   "cell_type": "code",
   "execution_count": 13,
   "metadata": {},
   "outputs": [
    {
     "name": "stdout",
     "output_type": "stream",
     "text": [
      "     x1    x2    x3    x4    x5\n",
      "0  0.02  0.05 -0.09 -0.43 -0.08\n",
      "1 -0.13  0.11 -0.08 -0.29 -0.03\n",
      "2  0.08  0.06 -0.07 -0.41 -0.03\n",
      "3  0.02 -0.12  0.01 -0.43 -0.02\n",
      "4 -0.14 -0.12 -0.08 -0.02 -0.08\n"
     ]
    }
   ],
   "source": [
    "data = pd.read_csv(\"data/train.csv\")\n",
    "y = data[\"y\"].to_numpy()\n",
    "data = data.drop(columns=[\"Id\", \"y\"])\n",
    "# print a few data samples\n",
    "print(data.head())\n",
    "X = data.to_numpy()"
   ]
  },
  {
   "cell_type": "markdown",
   "metadata": {},
   "source": [
    "#### Transform data"
   ]
  },
  {
   "cell_type": "code",
   "execution_count": 14,
   "metadata": {},
   "outputs": [
    {
     "data": {
      "text/plain": [
       "array([[ 0.02,  0.05, -0.09, -0.43, -0.08],\n",
       "       [-0.13,  0.11, -0.08, -0.29, -0.03],\n",
       "       [ 0.08,  0.06, -0.07, -0.41, -0.03],\n",
       "       [ 0.02, -0.12,  0.01, -0.43, -0.02],\n",
       "       [-0.14, -0.12, -0.08, -0.02, -0.08]])"
      ]
     },
     "metadata": {},
     "output_type": "display_data"
    },
    {
     "data": {
      "text/plain": [
       "array([[ 2.00000000e-02,  5.00000000e-02, -9.00000000e-02,\n",
       "        -4.30000000e-01, -8.00000000e-02,  4.00000000e-04,\n",
       "         2.50000000e-03,  8.10000000e-03,  1.84900000e-01,\n",
       "         6.40000000e-03,  1.02020134e+00,  1.05127110e+00,\n",
       "         9.13931185e-01,  6.50509095e-01,  9.23116346e-01,\n",
       "         9.99800007e-01,  9.98750260e-01,  9.95952733e-01,\n",
       "         9.08965750e-01,  9.96801706e-01,  1.00000000e+00],\n",
       "       [-1.30000000e-01,  1.10000000e-01, -8.00000000e-02,\n",
       "        -2.90000000e-01, -3.00000000e-02,  1.69000000e-02,\n",
       "         1.21000000e-02,  6.40000000e-03,  8.41000000e-02,\n",
       "         9.00000000e-04,  8.78095431e-01,  1.11627807e+00,\n",
       "         9.23116346e-01,  7.48263568e-01,  9.70445534e-01,\n",
       "         9.91561894e-01,  9.93956098e-01,  9.96801706e-01,\n",
       "         9.58243876e-01,  9.99550034e-01,  1.00000000e+00],\n",
       "       [ 8.00000000e-02,  6.00000000e-02, -7.00000000e-02,\n",
       "        -4.10000000e-01, -3.00000000e-02,  6.40000000e-03,\n",
       "         3.60000000e-03,  4.90000000e-03,  1.68100000e-01,\n",
       "         9.00000000e-04,  1.08328707e+00,  1.06183655e+00,\n",
       "         9.32393820e-01,  6.63650250e-01,  9.70445534e-01,\n",
       "         9.96801706e-01,  9.98200540e-01,  9.97551000e-01,\n",
       "         9.17120823e-01,  9.99550034e-01,  1.00000000e+00],\n",
       "       [ 2.00000000e-02, -1.20000000e-01,  1.00000000e-02,\n",
       "        -4.30000000e-01, -2.00000000e-02,  4.00000000e-04,\n",
       "         1.44000000e-02,  1.00000000e-04,  1.84900000e-01,\n",
       "         4.00000000e-04,  1.02020134e+00,  8.86920437e-01,\n",
       "         1.01005017e+00,  6.50509095e-01,  9.80198673e-01,\n",
       "         9.99800007e-01,  9.92808636e-01,  9.99950000e-01,\n",
       "         9.08965750e-01,  9.99800007e-01,  1.00000000e+00],\n",
       "       [-1.40000000e-01, -1.20000000e-01, -8.00000000e-02,\n",
       "        -2.00000000e-02, -8.00000000e-02,  1.96000000e-02,\n",
       "         1.44000000e-02,  6.40000000e-03,  4.00000000e-04,\n",
       "         6.40000000e-03,  8.69358235e-01,  8.86920437e-01,\n",
       "         9.23116346e-01,  9.80198673e-01,  9.23116346e-01,\n",
       "         9.90215996e-01,  9.92808636e-01,  9.96801706e-01,\n",
       "         9.99800007e-01,  9.96801706e-01,  1.00000000e+00]])"
      ]
     },
     "metadata": {},
     "output_type": "display_data"
    }
   ],
   "source": [
    "\"\"\"\n",
    "Transform the 5 input features of matrix X (x_i denoting the i-th component of X) \n",
    "into 21 new features phi(X) in the following manner:\n",
    "5 linear features: phi_1(X) = x_1, phi_2(X) = x_2, phi_3(X) = x_3, phi_4(X) = x_4, phi_5(X) = x_5\n",
    "5 quadratic features: phi_6(X) = x_1^2, phi_7(X) = x_2^2, phi_8(X) = x_3^2, phi_9(X) = x_4^2, phi_10(X) = x_5^2\n",
    "5 exponential features: phi_11(X) = exp(x_1), phi_12(X) = exp(x_2), phi_13(X) = exp(x_3), phi_14(X) = exp(x_4), phi_15(X) = exp(x_5)\n",
    "5 cosine features: phi_16(X) = cos(x_1), phi_17(X) = cos(x_2), phi_18(X) = cos(x_3), phi_19(X) = cos(x_4), phi_20(X) = cos(x_5)\n",
    "1 constant feature: phi_21(X)=1\n",
    "\n",
    "Parameters\n",
    "----------\n",
    "X: matrix of floats, dim = (700,5), inputs with 5 features\n",
    "\n",
    "Compute\n",
    "----------\n",
    "X_transformed: array of floats: dim = (700,21), transformed input with 21 features\n",
    "\"\"\"\n",
    "\n",
    "X_transformed = np.zeros((700, 21))\n",
    "\n",
    "X_transformed[:, 0] = X[:, 0] # x1\n",
    "X_transformed[:, 1] = X[:, 1] # x2\n",
    "X_transformed[:, 2] = X[:, 2] # x3\n",
    "X_transformed[:, 3] = X[:, 3] # x4\n",
    "X_transformed[:, 4] = X[:, 4] # x5\n",
    "\n",
    "X_transformed[:, 5] = X[:, 0]**2 # x1**2\n",
    "X_transformed[:, 6] = X[:, 1]**2 # x2**2\n",
    "X_transformed[:, 7] = X[:, 2]**2 # x3**2\n",
    "X_transformed[:, 8] = X[:, 3]**2 # x4**2\n",
    "X_transformed[:, 9] = X[:, 4]**2 # x5**2\n",
    "\n",
    "X_transformed[:, 10] = np.exp(X[:, 0]) # exp(x1)\n",
    "X_transformed[:, 11] = np.exp(X[:, 1]) # exp(x2)\n",
    "X_transformed[:, 12] = np.exp(X[:, 2]) # exp(x3)\n",
    "X_transformed[:, 13] = np.exp(X[:, 3]) # exp(x4)\n",
    "X_transformed[:, 14] = np.exp(X[:, 4]) # exp(x5)\n",
    "\n",
    "X_transformed[:, 15] = np.cos(X[:, 0]) # cos(x1)\n",
    "X_transformed[:, 16] = np.cos(X[:, 1]) # cos(x2)\n",
    "X_transformed[:, 17] = np.cos(X[:, 2]) # cos(x3)\n",
    "X_transformed[:, 18] = np.cos(X[:, 3]) # cos(x4)\n",
    "X_transformed[:, 19] = np.cos(X[:, 4]) # cos(x5)\n",
    "\n",
    "X_transformed[:, 20] = 1 # bias\n",
    "\n",
    "display(X[0:5, :])\n",
    "display(X_transformed[0:5, :])\n",
    "\n",
    "assert X_transformed.shape == (700, 21)"
   ]
  },
  {
   "cell_type": "markdown",
   "metadata": {},
   "source": [
    "#### Fit data"
   ]
  },
  {
   "cell_type": "code",
   "execution_count": 15,
   "metadata": {},
   "outputs": [
    {
     "data": {
      "text/plain": [
       "10.655379505623053"
      ]
     },
     "metadata": {},
     "output_type": "display_data"
    },
    {
     "data": {
      "text/plain": [
       "array([ 0.12990164, -0.30460059, -0.44676229,  0.21947168,  0.08323926,\n",
       "       -0.15266684,  0.08257318,  0.08440959, -0.1149516 ,  0.03158846,\n",
       "       -0.51283915, -0.8291457 , -0.97264835, -0.39995951, -0.46878198,\n",
       "       -0.48806552, -0.60496836, -0.60584511, -0.50758863, -0.57900864,\n",
       "       -0.56391809])"
      ]
     },
     "metadata": {},
     "output_type": "display_data"
    }
   ],
   "source": [
    "\"\"\"\n",
    "Use the transformed data points X_transformed and fit the linear regression on this \n",
    "transformed data. Finally, compute the weights of the fitted linear regression. \n",
    "\n",
    "Parameters\n",
    "----------\n",
    "X_transformed: array of floats: dim = (700,21), transformed input with 21 features\n",
    "y: array of floats, dim = (700,), input labels)\n",
    "\n",
    "Compute\n",
    "----------\n",
    "w: array of floats: dim = (21,), optimal parameters of linear regression\n",
    "\"\"\"\n",
    "\n",
    "train_size = 1\n",
    "\n",
    "if train_size < 1:\n",
    "    # Do test split for good measure\n",
    "    X_train, X_test, Y_train, Y_test = sklearn.model_selection.train_test_split(X_transformed, y, train_size=train_size, random_state=69)\n",
    "else:\n",
    "    X_train = X_transformed\n",
    "    Y_train = y\n",
    "    X_test = None\n",
    "\n",
    "\n",
    "# Train model (no intercept as we already have that in our weights)\n",
    "model = sklearn.linear_model.RidgeCV(fit_intercept=False, alphas=np.logspace(0, 10, 400))\n",
    "model.fit(X_train, Y_train)\n",
    "\n",
    "display(model.alpha_)\n",
    "\n",
    "w = model.coef_\n",
    "display(w)\n",
    "\n",
    "assert w.shape == (21,)\n",
    "\n",
    "\n",
    "if X_test is not None:\n",
    "    # Validate model\n",
    "    test_preds = model.predict(X_test)\n",
    "    diff = test_preds - Y_test\n",
    "    RMSE = sklearn.metrics.mean_squared_error(Y_test, test_preds)**0.5\n",
    "\n",
    "    print(f\"RMSE: {RMSE}\")\n",
    "\n"
   ]
  },
  {
   "cell_type": "markdown",
   "metadata": {},
   "source": [
    "# Generate Output Files"
   ]
  },
  {
   "cell_type": "code",
   "execution_count": 16,
   "metadata": {},
   "outputs": [],
   "source": [
    "# Save results in the required format\n",
    "np.savetxt(\"./output.csv\", w, fmt=\"%.12f\")"
   ]
  },
  {
   "cell_type": "code",
   "execution_count": 34,
   "metadata": {},
   "outputs": [
    {
     "name": "stdout",
     "output_type": "stream",
     "text": [
      "[NbConvertApp] Converting notebook task.ipynb to python\n",
      "[NbConvertApp] Writing 5251 bytes to task.py\n"
     ]
    }
   ],
   "source": [
    "## end of task ##\n",
    "\n",
    "!jupyter nbconvert --to python task.ipynb\n",
    "\n",
    "import re #python regular expression matching module\n",
    "with open('task.py', 'r') as f_orig:\n",
    "    script = re.sub(r'# In\\[.*\\]:\\n','', f_orig.read())\n",
    "    script = script.replace('## end of task ##',\n",
    "\"\"\"\n",
    "## Exit here, the rest is only used for creating this file\n",
    "exit(0)\n",
    "\"\"\"\n",
    "    , 1)\n",
    "    script = script.replace(\"get_ipython().system('bash pull_data.sh')\",\n",
    "\"\"\"# get_ipython().system('bash pull_data.sh')\n",
    "    print(\"We are missing the data/ folder, please download the data manually and extract everything to data/.\")\n",
    "    exit(1)\"\"\", 1\n",
    ")\n",
    "with open('task.py','w') as fh:\n",
    "    fh.write(script[:script.index(\"\\n\")])\n",
    "    fh.write(\"\"\"\n",
    "   \n",
    "## Note: This file was automatically generated from an Jupyter Notebook.\n",
    "\n",
    "def display(X):\n",
    "    print(X)\n",
    "\n",
    "\"\"\")\n",
    "    fh.write(script[script.index(\"\\n\"):])\n"
   ]
  },
  {
   "cell_type": "code",
   "execution_count": null,
   "metadata": {},
   "outputs": [],
   "source": []
  }
 ],
 "metadata": {
  "kernelspec": {
   "display_name": ".venv",
   "language": "python",
   "name": "python3"
  },
  "language_info": {
   "codemirror_mode": {
    "name": "ipython",
    "version": 3
   },
   "file_extension": ".py",
   "mimetype": "text/x-python",
   "name": "python",
   "nbconvert_exporter": "python",
   "pygments_lexer": "ipython3",
   "version": "3.10.13"
  }
 },
 "nbformat": 4,
 "nbformat_minor": 2
}
