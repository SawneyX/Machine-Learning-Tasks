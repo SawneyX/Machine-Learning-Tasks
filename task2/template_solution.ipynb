{
 "cells": [
  {
   "cell_type": "markdown",
   "id": "ad2e81b29c71eb2b",
   "metadata": {
    "collapsed": false
   },
   "source": [
    "# Task 2\n",
    "This serves as a template which will guide you through the implementation of this task. It is advised to first read the whole template and get a sense of the overall structure of the code before trying to fill in any of the TODO gaps.\n",
    "This is the jupyter notebook version of the template. For the python file version, please refer to the file `template_solution.py`."
   ]
  },
  {
   "cell_type": "markdown",
   "id": "6de347e31d213bd5",
   "metadata": {
    "collapsed": false
   },
   "source": [
    "First, we import necessary libraries:"
   ]
  },
  {
   "cell_type": "code",
   "execution_count": 26,
   "id": "9e071b8e282a8d6b",
   "metadata": {
    "ExecuteTime": {
     "end_time": "2024-03-10T18:47:37.485752Z",
     "start_time": "2024-03-10T18:47:37.479263Z"
    },
    "collapsed": false
   },
   "outputs": [],
   "source": [
    "import numpy as np\n",
    "import pandas as pd\n",
    "# Add any other imports you need here\n",
    "\n",
    "from sklearn.svm import SVR\n",
    "from sklearn.metrics import mean_squared_error"
   ]
  },
  {
   "cell_type": "markdown",
   "id": "918f2086e18dd7b5",
   "metadata": {
    "collapsed": false
   },
   "source": [
    "# Data Loading\n",
    "TODO: Perform data preprocessing, imputation and extract X_train, y_train and X_test\n",
    "(and potentially change initialization of variables to accomodate how you deal with non-numeric data)"
   ]
  },
  {
   "cell_type": "code",
   "execution_count": 24,
   "id": "402e111cb0d70236",
   "metadata": {
    "collapsed": false
   },
   "outputs": [
    {
     "name": "stdout",
     "output_type": "stream",
     "text": [
      "Training data:\n",
      "Shape: (900, 11)\n",
      "   season  price_AUS  price_CHF  price_CZE  price_GER  price_ESP  price_FRA  \\\n",
      "0  spring        NaN   9.644028  -1.686248  -1.748076  -3.666005        NaN   \n",
      "1  summer        NaN   7.246061  -2.132377  -2.054363  -3.295697  -4.104759   \n",
      "\n",
      "   price_UK  price_ITA  price_POL  price_SVK  \n",
      "0 -1.822720  -3.931031        NaN  -3.238197  \n",
      "1 -1.826021        NaN        NaN  -3.212894  \n",
      "\n",
      "\n",
      "Test data:\n",
      "(100, 10)\n",
      "   season  price_AUS  price_CZE  price_GER  price_ESP  price_FRA  price_UK  \\\n",
      "0  spring        NaN   0.472985   0.707957        NaN  -1.136441 -0.596703   \n",
      "1  summer  -1.184837   0.358019        NaN  -3.199028  -1.069695       NaN   \n",
      "\n",
      "   price_ITA  price_POL  price_SVK  \n",
      "0        NaN   3.298693   1.921886  \n",
      "1  -1.420091   3.238307        NaN  \n",
      "\n",
      "\n",
      "Training data (after):\n",
      "Shape: (631, 14)\n",
      "   price_AUS  price_CHF  price_CZE  price_GER  price_ESP  price_FRA  price_UK  \\\n",
      "0  -0.681994   9.644028  -1.686248  -1.748076  -3.666005  -2.969189 -1.822720   \n",
      "1  -0.681994   7.246061  -2.132377  -2.054363  -3.295697  -4.104759 -1.826021   \n",
      "\n",
      "   price_ITA  price_POL  price_SVK  season_autumn  season_spring  \\\n",
      "0  -3.931031  -0.460496  -3.238197          False           True   \n",
      "1  -2.776184  -0.460496  -3.212894          False          False   \n",
      "\n",
      "   season_summer  season_winter  \n",
      "0          False          False  \n",
      "1           True          False  \n",
      "\n",
      "\n",
      "Test data (after):\n",
      "Shape: (100, 13)\n",
      "   price_AUS  price_CZE  price_GER  price_ESP  price_FRA  price_UK  price_ITA  \\\n",
      "0  -1.331262   0.472985   0.707957  -3.924473  -1.136441 -0.596703  -3.163394   \n",
      "1  -1.184837   0.358019  -0.951635  -3.199028  -1.069695 -2.190843  -1.420091   \n",
      "\n",
      "   price_POL  price_SVK  season_autumn  season_spring  season_summer  \\\n",
      "0   3.298693   1.921886          False           True          False   \n",
      "1   3.238307  -1.941443          False          False           True   \n",
      "\n",
      "   season_winter  \n",
      "0          False  \n",
      "1          False  \n",
      "\n",
      "\n"
     ]
    }
   ],
   "source": [
    "\"\"\"\n",
    "This loads the training and test data, preprocesses it, removes the NaN\n",
    "values and interpolates the missing data using imputation\n",
    "\n",
    "Parameters\n",
    "----------\n",
    "Compute\n",
    "----------\n",
    "X_train: matrix of floats, training input with features\n",
    "y_train: array of floats, training output with labels\n",
    "X_test: matrix of floats: dim = (100, ?), test input with features\n",
    "\"\"\"\n",
    "# Load training data\n",
    "train_df = pd.read_csv(\"train.csv\")\n",
    "    \n",
    "print(\"Training data:\")\n",
    "print(\"Shape:\", train_df.shape)\n",
    "print(train_df.head(2))\n",
    "print('\\n')\n",
    "    \n",
    "# Load test data\n",
    "test_df = pd.read_csv(\"test.csv\")\n",
    "\n",
    "print(\"Test data:\")\n",
    "print(test_df.shape)\n",
    "print(test_df.head(2))\n",
    "\n",
    "# Dummy initialization of the X_train, X_test and y_train   \n",
    "# TODO: Depending on how you deal with the non-numeric data, you may want to \n",
    "# modify/ignore the initialization of these variables   \n",
    "\n",
    "\n",
    "#TRAIN\n",
    "train_df = train_df.dropna(subset=['price_CHF'])   # Delete rows where price_CHF is missing: would introduce noise if the label was guessed with mean\n",
    "\n",
    "train_df = pd.get_dummies(train_df, columns=['season'], prefix='season')   #One hot encode season\n",
    "\n",
    "for column in train_df.columns:      #fill missing values with mean of its column\n",
    "    mean_value = train_df[column].mean()\n",
    "    train_df[column] = train_df[column].fillna(mean_value)\n",
    "\n",
    "\n",
    "#TEST\n",
    "test_df = pd.get_dummies(test_df, columns=['season'], prefix='season')\n",
    "\n",
    "for column in test_df.columns:\n",
    "    mean_value = test_df[column].mean()\n",
    "    test_df[column] = test_df[column].fillna(mean_value)\n",
    "    \n",
    "    \n",
    "    \n",
    "\n",
    "print(\"\\n\")\n",
    "print(\"Training data (after):\")\n",
    "print(\"Shape:\", train_df.shape)\n",
    "print(train_df.head(2))\n",
    "print(\"\\n\")\n",
    "\n",
    "print(\"Test data (after):\")\n",
    "print(\"Shape:\", test_df.shape)\n",
    "print(test_df.head(2))\n",
    "print(\"\\n\")\n",
    "\n",
    "\n",
    "X_train = train_df.drop(['price_CHF'], axis=1)\n",
    "y_train = train_df['price_CHF']\n",
    "X_test = test_df\n",
    "\n",
    "# TODO: Perform data preprocessing, imputation and extract X_train, y_train and X_test\n",
    "assert (X_train.shape[1] == X_test.shape[1]) and (X_train.shape[0] == y_train.shape[0]) and (X_test.shape[0] == 100), \"Invalid data shape\""
   ]
  },
  {
   "cell_type": "markdown",
   "id": "959037466887e870",
   "metadata": {
    "collapsed": false
   },
   "source": [
    "# Modeling and Prediction\n",
    "TODO: Define the model and fit it using training data. Then, use test data to make predictions"
   ]
  },
  {
   "cell_type": "code",
   "execution_count": 28,
   "id": "9fb0d86b605f9813",
   "metadata": {
    "collapsed": false
   },
   "outputs": [
    {
     "name": "stdout",
     "output_type": "stream",
     "text": [
      "Train RMSE: 1.0150930568098666\n"
     ]
    }
   ],
   "source": [
    "\"\"\"\n",
    "This defines the model, fits training data and then does the prediction\n",
    "with the test data \n",
    "\n",
    "Parameters\n",
    "----------\n",
    "X_train: matrix of floats, training input with 10 features\n",
    "y_train: array of floats, training output\n",
    "X_test: matrix of floats: dim = (100, ?), test input with 10 features\n",
    "\n",
    "Compute\n",
    "----------\n",
    "y_test: array of floats: dim = (100,), predictions on test set\n",
    "\n",
    "\"\"\"\n",
    "\n",
    "#SVR (SVM) initialize with rbf kernel trick\n",
    "svr_rbf = SVR(kernel='rbf')\n",
    "\n",
    "# Fit the model to training data\n",
    "svr_rbf.fit(X_train, y_train)\n",
    "\n",
    "# Predict\n",
    "y_pred_train = svr_rbf.predict(X_train)\n",
    "y_pred_test = svr_rbf.predict(X_test)\n",
    "\n",
    "# Evaluate\n",
    "train_rmse = np.sqrt(mean_squared_error(y_train, y_pred_train))\n",
    "\n",
    "\n",
    "print(\"Train RMSE:\", train_rmse)\n",
    "\n",
    "\n",
    "\n",
    "y_pred = y_pred_test   #np.zeros(X_test.shape[0])\n",
    "\n",
    "assert y_pred.shape == (100,), \"Invalid data shape\""
   ]
  },
  {
   "cell_type": "markdown",
   "id": "9c62e0cd4cec5a7e",
   "metadata": {
    "collapsed": false
   },
   "source": [
    "# Saving Results\n",
    "You don't have to change this"
   ]
  },
  {
   "cell_type": "code",
   "execution_count": 29,
   "id": "382d87d2d67ddbdc",
   "metadata": {
    "collapsed": false
   },
   "outputs": [
    {
     "name": "stdout",
     "output_type": "stream",
     "text": [
      "\n",
      "Results file successfully generated!\n"
     ]
    }
   ],
   "source": [
    "dt = pd.DataFrame(y_pred) \n",
    "dt.columns = ['price_CHF']\n",
    "dt.to_csv('results.csv', index=False)\n",
    "print(\"\\nResults file successfully generated!\")"
   ]
  }
 ],
 "metadata": {
  "kernelspec": {
   "display_name": "Python 3",
   "language": "python",
   "name": "python3"
  },
  "language_info": {
   "codemirror_mode": {
    "name": "ipython",
    "version": 3
   },
   "file_extension": ".py",
   "mimetype": "text/x-python",
   "name": "python",
   "nbconvert_exporter": "python",
   "pygments_lexer": "ipython3",
   "version": "3.10.13"
  }
 },
 "nbformat": 4,
 "nbformat_minor": 5
}
