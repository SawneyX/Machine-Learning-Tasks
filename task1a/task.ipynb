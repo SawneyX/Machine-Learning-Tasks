{
 "cells": [
  {
   "cell_type": "markdown",
   "metadata": {},
   "source": [
    "#### General guidance\n",
    "\n",
    "This serves as a template which will guide you through the implementation of this task. It is advised\n",
    "to first read the whole template and get a sense of the overall structure of the code before trying to fill in any of the TODO gaps.\n",
    "This is the jupyter notebook version of the template. For the python file version, please refer to the file `template_solution.py`.\n",
    "\n",
    "First, we import necessary libraries:"
   ]
  },
  {
   "cell_type": "code",
   "execution_count": 101,
   "metadata": {},
   "outputs": [],
   "source": [
    "import pandas as pd\n",
    "import numpy as np\n",
    "from sklearn.model_selection import KFold\n",
    "\n",
    "\n",
    "# Add any additional imports here (however, the task is solvable without using \n",
    "# any additional imports)\n",
    "# import ...\n",
    "from sklearn.linear_model import Ridge\n",
    "import os"
   ]
  },
  {
   "cell_type": "markdown",
   "metadata": {},
   "source": [
    " #### Loading data"
   ]
  },
  {
   "cell_type": "code",
   "execution_count": 102,
   "metadata": {},
   "outputs": [
    {
     "name": "stdout",
     "output_type": "stream",
     "text": [
      "Data already fetched!\n"
     ]
    }
   ],
   "source": [
    "# Pull data if not exists\n",
    "DATA_PATH = 'data'\n",
    "if not os.path.exists(DATA_PATH):\n",
    "    !bash pull_data.sh\n",
    "else:\n",
    "    print(\"Data already fetched!\")"
   ]
  },
  {
   "cell_type": "code",
   "execution_count": 103,
   "metadata": {},
   "outputs": [],
   "source": [
    "df = pd.read_csv(\"data/train.csv\")\n",
    "\n",
    "Y = df.iloc[:, 0].to_numpy()\n",
    "X = df.iloc[:, 1:].to_numpy()\n"
   ]
  },
  {
   "cell_type": "markdown",
   "metadata": {},
   "source": [
    "#### Calculating the average RMSE"
   ]
  },
  {
   "cell_type": "code",
   "execution_count": 104,
   "metadata": {},
   "outputs": [],
   "source": [
    "def calculate_RMSE(w, X, y):\n",
    "    \"\"\"This function takes test data points (X and y), and computes the empirical RMSE of \n",
    "    predicting y from X using a linear model with weights w. \n",
    "\n",
    "    Parameters\n",
    "    ----------\n",
    "    w: array of floats: dim = (13,), optimal parameters of ridge regression \n",
    "    X: matrix of floats, dim = (15,13), inputs with 13 features\n",
    "    y: array of floats, dim = (15,), input labels\n",
    "\n",
    "    Returns\n",
    "    ----------\n",
    "    RMSE: float: dim = 1, RMSE value\n",
    "    \"\"\"\n",
    "    \n",
    "    assert(w.shape == (13, ))\n",
    "    assert(X.shape == (15, 13))\n",
    "    assert(y.shape == (15, ))\n",
    "\n",
    "    RMSE = 0\n",
    "\n",
    "    \n",
    "    y_actual = y\n",
    "    y_predicted = np.dot(X, w)\n",
    "    \n",
    "    assert(y_predicted.shape == (15, ))\n",
    "\n",
    "    \n",
    "    RMSE = np.sqrt(np.square(np.subtract(y_actual, y_predicted)).mean()) #calcs RMSE \n",
    "    \n",
    "    assert np.isscalar(RMSE)\n",
    "    return RMSE"
   ]
  },
  {
   "cell_type": "markdown",
   "metadata": {},
   "source": [
    "#### Fitting the regressor"
   ]
  },
  {
   "cell_type": "code",
   "execution_count": 105,
   "metadata": {},
   "outputs": [],
   "source": [
    "def fit(X, y, lam):\n",
    "    \"\"\"\n",
    "    This function receives training data points, then fits the ridge regression on this data\n",
    "    with regularization hyperparameter lambda. The weights w of the fitted ridge regression\n",
    "    are returned. \n",
    "\n",
    "    Parameters\n",
    "    ----------\n",
    "    X: matrix of floats, dim = (135,13), inputs with 13 features\n",
    "    y: array of floats, dim = (135,), input labels)\n",
    "    lam: float. lambda parameter, used in regularization term\n",
    "\n",
    "    Returns\n",
    "    ----------\n",
    "    w: array of floats: dim = (13,), optimal parameters of ridge regression\n",
    "    \"\"\"\n",
    "    assert(X.shape[1] == 13)\n",
    "\n",
    "    model = Ridge(alpha=lam, fit_intercept=False)\n",
    "    model.fit(X, y)\n",
    "    \n",
    "    w = model.coef_\n",
    "    \n",
    "    assert w.shape == (13,)\n",
    "    return w"
   ]
  },
  {
   "cell_type": "markdown",
   "metadata": {},
   "source": [
    "#### Performing computation"
   ]
  },
  {
   "cell_type": "code",
   "execution_count": 106,
   "metadata": {},
   "outputs": [
    {
     "data": {
      "text/plain": [
       "array([5.5036383 , 5.48040028, 5.46988555, 5.93193113, 6.2433465 ])"
      ]
     },
     "metadata": {},
     "output_type": "display_data"
    },
    {
     "name": "stdout",
     "output_type": "stream",
     "text": [
      "[[7.4412339  7.47793331 7.58146902 8.19645872 8.50748161]\n",
      " [5.12826602 4.88393133 4.45282503 3.55256057 3.60399295]\n",
      " [7.70764701 7.70279186 7.72774439 7.77994411 7.88968326]\n",
      " [4.54006065 4.50059526 4.33989198 4.94678494 5.24054741]\n",
      " [4.07531646 4.0726219  4.19425423 4.89426434 5.24272243]\n",
      " [5.10975443 5.15192098 5.39446252 7.11982551 7.87880031]\n",
      " [6.55136404 6.56151161 6.55275056 7.13545034 7.47865912]\n",
      " [6.04021985 6.09837022 6.36717035 7.59224397 7.99355906]\n",
      " [4.88759828 4.88177704 4.70584949 4.30299719 4.45025962]\n",
      " [3.5549224  3.47254925 3.38243796 3.79878164 4.14775924]]\n",
      "[5.5036383  5.48040028 5.46988555 5.93193113 6.2433465 ]\n"
     ]
    }
   ],
   "source": [
    "\"\"\"\n",
    "Main cross-validation loop, implementing 10-fold CV. In every iteration \n",
    "(for every train-test split), the RMSE for every lambda is calculated, \n",
    "and then averaged over iterations.\n",
    "\n",
    "Parameters\n",
    "---------- \n",
    "X: matrix of floats, dim = (150, 13), inputs with 13 features\n",
    "y: array of floats, dim = (150, ), input labels\n",
    "lambdas: list of floats, len = 5, values of lambda for which ridge regression is fitted and RMSE estimated\n",
    "n_folds: int, number of folds (pieces in which we split the dataset), parameter K in KFold CV\n",
    "\n",
    "Compute\n",
    "----------\n",
    "avg_RMSE: array of floats: dim = (5,), average RMSE value for every lambda\n",
    "\"\"\"\n",
    "\n",
    "# The function calculating the average RMSE\n",
    "lambdas = [0.1, 1, 10, 100, 200]\n",
    "n_folds = 10\n",
    "\n",
    "RMSE_mat = np.zeros((n_folds, len(lambdas)))\n",
    "\n",
    "k_fold = KFold(n_splits=n_folds)\n",
    "\n",
    "for i, (train_index, test_index) in enumerate(k_fold.split(X)):\n",
    "\n",
    "    fold_X_train, fold_X_test = X[train_index], X[test_index]\n",
    "    fold_y_train, fold_y_test = Y[train_index], Y[test_index]\n",
    "\n",
    "    for j in range(len(lambdas)):\n",
    "    \n",
    "        fold_w = fit(fold_X_train, fold_y_train, lambdas[j])\n",
    "        fold_rmse = calculate_RMSE(fold_w, fold_X_test, fold_y_test)\n",
    "        RMSE_mat[i][j] = fold_rmse\n",
    "        \n",
    "\n",
    "avg_RMSE = np.mean(RMSE_mat, axis=0) # avg_RMSE: array of floats: dim = (5,), average RMSE value for every lambda\n",
    "display(avg_RMSE)\n",
    "assert avg_RMSE.shape == (5,)\n",
    "print(RMSE_mat)\n",
    "print(avg_RMSE)"
   ]
  },
  {
   "cell_type": "markdown",
   "metadata": {},
   "source": [
    "# Create Outputs\n"
   ]
  },
  {
   "cell_type": "code",
   "execution_count": 107,
   "metadata": {},
   "outputs": [],
   "source": [
    "# Save results in the required format\n",
    "np.savetxt(\"./output.csv\", avg_RMSE, fmt=\"%.12f\")"
   ]
  },
  {
   "cell_type": "code",
   "execution_count": 108,
   "metadata": {},
   "outputs": [
    {
     "name": "stdout",
     "output_type": "stream",
     "text": [
      "[NbConvertApp] Converting notebook task.ipynb to script\n",
      "[NbConvertApp] Writing 4358 bytes to task.py\n"
     ]
    }
   ],
   "source": [
    "## end of task ##\n",
    "\n",
    "!jupyter nbconvert --to python task.ipynb\n",
    "\n",
    "import re #python regular expression matching module\n",
    "with open('task.py', 'r') as f_orig:\n",
    "    script = re.sub(r'# In\\[.*\\]:\\n','', f_orig.read())\n",
    "    script = script.replace('## end of task ##',\n",
    "\"\"\"\n",
    "## Exit here, the rest is only used for creating this file\n",
    "exit(0)\n",
    "\"\"\"\n",
    "    , 1)\n",
    "    script = script.replace(\"get_ipython().system('bash pull_data.sh')\",\n",
    "\"\"\"# get_ipython().system('bash pull_data.sh')\n",
    "    print(\"We are missing the data/ folder, please download the data manually and extract everything to data/.\")\n",
    "    exit(1)\"\"\", 1\n",
    ")\n",
    "with open('task.py','w') as fh:\n",
    "    fh.write(script[:script.index(\"\\n\")])\n",
    "    fh.write(\"\"\"\n",
    "   \n",
    "## Note: This file was automatically generated from an Jupyter Notebook.\n",
    "\n",
    "def display(X):\n",
    "    print(X)\n",
    "\n",
    "\"\"\")\n",
    "    fh.write(script[script.index(\"\\n\"):])\n"
   ]
  },
  {
   "cell_type": "code",
   "execution_count": null,
   "metadata": {},
   "outputs": [],
   "source": []
  }
 ],
 "metadata": {
  "kernelspec": {
   "display_name": ".venv",
   "language": "python",
   "name": "python3"
  },
  "language_info": {
   "codemirror_mode": {
    "name": "ipython",
    "version": 3
   },
   "file_extension": ".py",
   "mimetype": "text/x-python",
   "name": "python",
   "nbconvert_exporter": "python",
   "pygments_lexer": "ipython3",
   "version": "3.10.13"
  }
 },
 "nbformat": 4,
 "nbformat_minor": 2
}
